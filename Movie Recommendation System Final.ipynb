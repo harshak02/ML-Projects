{
 "cells": [
  {
   "cell_type": "code",
   "execution_count": null,
   "id": "80b625cd-5973-43fa-9482-909f01b3b074",
   "metadata": {},
   "outputs": [],
   "source": [
    "import numpy as np\n",
    "import pandas as pd"
   ]
  },
  {
   "cell_type": "code",
   "execution_count": null,
   "id": "c88ab932-757e-43a7-8f7b-affca6642bfc",
   "metadata": {},
   "outputs": [],
   "source": [
    "movies = pd.read_csv(\"tmdb_5000_movies.csv\")\n",
    "credits = pd.read_csv(\"tmdb_5000_credits.csv\")"
   ]
  },
  {
   "cell_type": "code",
   "execution_count": null,
   "id": "5ed216ac-acbd-4673-9d9e-92f1a84b2e68",
   "metadata": {},
   "outputs": [],
   "source": [
    "movies.head()"
   ]
  },
  {
   "cell_type": "code",
   "execution_count": null,
   "id": "5dd58169-79ed-412d-a2de-f62d8aad4dd1",
   "metadata": {},
   "outputs": [],
   "source": [
    "movies.head(1)"
   ]
  },
  {
   "cell_type": "code",
   "execution_count": null,
   "id": "5e2a5534-e7ae-4f16-9903-959964c93f00",
   "metadata": {},
   "outputs": [],
   "source": [
    "credits.head(1)"
   ]
  },
  {
   "cell_type": "code",
   "execution_count": null,
   "id": "9183328f-f71c-4f7d-a1bb-bdae120dfda4",
   "metadata": {},
   "outputs": [],
   "source": [
    "credits.head(1)['cast']"
   ]
  },
  {
   "cell_type": "code",
   "execution_count": null,
   "id": "1c3f4830-ce5a-4994-ad0d-4bcdb330e632",
   "metadata": {},
   "outputs": [],
   "source": [
    "credits.head(1)['cast'].values"
   ]
  },
  {
   "cell_type": "code",
   "execution_count": null,
   "id": "e631840e-d078-4444-8de7-f4f8cc1b44e1",
   "metadata": {},
   "outputs": [],
   "source": [
    "credits.head(1)['crew'].values"
   ]
  },
  {
   "cell_type": "code",
   "execution_count": null,
   "id": "6fcdd2ac-ac31-4d25-9644-d2d62e31b4a2",
   "metadata": {},
   "outputs": [],
   "source": [
    "movies.merge(credits,on=\"title\")"
   ]
  },
  {
   "cell_type": "code",
   "execution_count": null,
   "id": "1dc477df-887c-4ae4-8cd1-14d6825f7c4b",
   "metadata": {},
   "outputs": [],
   "source": [
    "movies.merge(credits,on=\"title\").shape"
   ]
  },
  {
   "cell_type": "code",
   "execution_count": null,
   "id": "84aead69-d213-4eb0-8855-7f727b7b22c3",
   "metadata": {},
   "outputs": [],
   "source": [
    "movies.shape"
   ]
  },
  {
   "cell_type": "code",
   "execution_count": null,
   "id": "4e4c3df8-70ab-47e7-9daa-7b93d6744421",
   "metadata": {},
   "outputs": [],
   "source": [
    "credits.shape"
   ]
  },
  {
   "cell_type": "code",
   "execution_count": null,
   "id": "83c0254d-096d-4471-8c3f-48f75dcac00d",
   "metadata": {},
   "outputs": [],
   "source": [
    "movies = movies.merge(credits,on=\"title\")"
   ]
  },
  {
   "cell_type": "code",
   "execution_count": null,
   "id": "e68819bd-99cb-4270-b8a2-6a55a49e9b9e",
   "metadata": {},
   "outputs": [],
   "source": [
    "movies.head()"
   ]
  },
  {
   "cell_type": "code",
   "execution_count": null,
   "id": "b823401b-b96b-4e4f-8cfb-1c299acbfa08",
   "metadata": {},
   "outputs": [],
   "source": [
    "#Important features \n",
    "#genres\n",
    "#id\n",
    "#keywords\n",
    "#title (English common)\n",
    "#overview\n",
    "#cast\n",
    "#crew"
   ]
  },
  {
   "cell_type": "code",
   "execution_count": null,
   "id": "d3303fef-8e13-477b-a043-d58b2a6fbe22",
   "metadata": {},
   "outputs": [],
   "source": [
    "movies[\"original_language\"].value_counts()"
   ]
  },
  {
   "cell_type": "code",
   "execution_count": null,
   "id": "15dcdb68-b6f5-4ee0-9233-c732f13d425b",
   "metadata": {},
   "outputs": [],
   "source": [
    "movies.info()"
   ]
  },
  {
   "cell_type": "code",
   "execution_count": null,
   "id": "57496f2c-d027-4d3e-b8f1-26477f3a5be7",
   "metadata": {},
   "outputs": [],
   "source": [
    "movies = movies[['movie_id','title','overview','genres','keywords','cast','crew']]"
   ]
  },
  {
   "cell_type": "code",
   "execution_count": null,
   "id": "d6f56e85-9e54-43ba-8b24-13cd6e2328c5",
   "metadata": {},
   "outputs": [],
   "source": [
    "movies.head()"
   ]
  },
  {
   "cell_type": "code",
   "execution_count": null,
   "id": "88b5bd7c-3d19-4bd8-b84f-b6b8abdc89f8",
   "metadata": {},
   "outputs": [],
   "source": [
    "movies.isnull().sum()"
   ]
  },
  {
   "cell_type": "code",
   "execution_count": null,
   "id": "edf864fe-f674-4d4b-b5a4-dd0523e75463",
   "metadata": {},
   "outputs": [],
   "source": [
    "movies.dropna(inplace=True)"
   ]
  },
  {
   "cell_type": "code",
   "execution_count": null,
   "id": "b61c8fe1-2536-4072-a88e-2ad61ba2c903",
   "metadata": {},
   "outputs": [],
   "source": [
    "movies.duplicated().sum()"
   ]
  },
  {
   "cell_type": "code",
   "execution_count": null,
   "id": "3fc2b8b2-5606-4391-b599-f2f537765cb0",
   "metadata": {},
   "outputs": [],
   "source": [
    "movies.iloc[0].genres"
   ]
  },
  {
   "cell_type": "code",
   "execution_count": null,
   "id": "661691c9-eaa7-495c-8d88-bc0c38a1db55",
   "metadata": {},
   "outputs": [],
   "source": [
    "movies.iloc[0]"
   ]
  },
  {
   "cell_type": "code",
   "execution_count": null,
   "id": "222bfa22-2749-48d6-8164-a5e3ddc459e8",
   "metadata": {},
   "outputs": [],
   "source": [
    "movies.iloc[0]"
   ]
  },
  {
   "cell_type": "code",
   "execution_count": null,
   "id": "f410f5f8-c80a-4228-bd3b-fb29a96ff29d",
   "metadata": {},
   "outputs": [],
   "source": [
    "movies.iloc[0].genres\n"
   ]
  },
  {
   "cell_type": "code",
   "execution_count": null,
   "id": "afeb46b1-0df1-4572-9e0f-c18d36dc0ea6",
   "metadata": {},
   "outputs": [],
   "source": [
    "#'[{\"id\": 28, \"name\": \"Action\"}, {\"id\": 12, \"name\": \"Adventure\"}, {\"id\": 14, \"name\": \"Fantasy\"}, {\"id\": 878, \"name\": \"Science Fiction\"}]'\n",
    "\n",
    "# to -> ['Action','Adventure','Fantasy','SciFi']"
   ]
  },
  {
   "cell_type": "code",
   "execution_count": null,
   "id": "ed1e43e8-eae6-4619-938a-df1847f957de",
   "metadata": {},
   "outputs": [],
   "source": [
    "import ast\n",
    "\n",
    "def convert(obj) :\n",
    "    can = []\n",
    "    for i in ast.literal_eval(obj) :\n",
    "        can.append(i['name'])\n",
    "    return can\n"
   ]
  },
  {
   "cell_type": "code",
   "execution_count": null,
   "id": "836a1fa5-129b-4aca-9616-6c296bc45940",
   "metadata": {},
   "outputs": [],
   "source": [
    "movies['genres'] = movies['genres'].apply(convert)"
   ]
  },
  {
   "cell_type": "code",
   "execution_count": null,
   "id": "6b7404d3-d446-40ac-92b5-3afbcc440d75",
   "metadata": {},
   "outputs": [],
   "source": [
    "movies.head()"
   ]
  },
  {
   "cell_type": "code",
   "execution_count": null,
   "id": "4278744e-4b7b-445e-b81c-d8f5666036ea",
   "metadata": {},
   "outputs": [],
   "source": [
    "movies['keywords'] = movies['keywords'].apply(convert)"
   ]
  },
  {
   "cell_type": "code",
   "execution_count": null,
   "id": "cb1e360a-f0fe-456e-90b8-054c170ab84f",
   "metadata": {},
   "outputs": [],
   "source": [
    "movies['cast'][0]"
   ]
  },
  {
   "cell_type": "code",
   "execution_count": null,
   "id": "dcb75f3b-1660-4356-a918-a6a9878722f0",
   "metadata": {},
   "outputs": [],
   "source": [
    "import ast\n",
    "\n",
    "def convertCast(obj) :\n",
    "    can = []\n",
    "    cnt = 0\n",
    "    for i in ast.literal_eval(obj) :\n",
    "        if cnt<3 : \n",
    "            can.append(i['name'])\n",
    "            cnt+=1\n",
    "        else :\n",
    "            break\n",
    "    return can\n"
   ]
  },
  {
   "cell_type": "code",
   "execution_count": null,
   "id": "5290720f-2224-48ff-9497-2a554a1b019a",
   "metadata": {},
   "outputs": [],
   "source": [
    "movies['cast'] = movies['cast'].apply(convertCast)"
   ]
  },
  {
   "cell_type": "code",
   "execution_count": null,
   "id": "96ae0e2a-63e9-4f87-afbb-4ba235d552fe",
   "metadata": {},
   "outputs": [],
   "source": [
    "movies.head()"
   ]
  },
  {
   "cell_type": "code",
   "execution_count": null,
   "id": "2995cc45-b37b-49fc-82e0-cd69ef900b0a",
   "metadata": {},
   "outputs": [],
   "source": [
    "def convertCrew(obj) :\n",
    "    can = []\n",
    "    for i in ast.literal_eval(obj) :\n",
    "        if i['job'] == \"Director\" :\n",
    "            can.append(i['name'])\n",
    "            return can\n",
    "    return can\n"
   ]
  },
  {
   "cell_type": "code",
   "execution_count": null,
   "id": "a254ef82-8531-461d-a858-c204a0772de9",
   "metadata": {},
   "outputs": [],
   "source": [
    "movies['crew'].apply(convertCrew)"
   ]
  },
  {
   "cell_type": "code",
   "execution_count": null,
   "id": "1963cb66-b744-40f1-bf74-b171ab3288ea",
   "metadata": {},
   "outputs": [],
   "source": [
    "movies['crew'] = movies['crew'].apply(convertCrew)"
   ]
  },
  {
   "cell_type": "code",
   "execution_count": null,
   "id": "064b8c00-47fd-4206-82c3-a54728b816d2",
   "metadata": {},
   "outputs": [],
   "source": [
    "movies.head()"
   ]
  },
  {
   "cell_type": "code",
   "execution_count": null,
   "id": "cf40966c-c46d-45b0-909a-43af14049b34",
   "metadata": {},
   "outputs": [],
   "source": [
    "movies['overview'] = movies['overview'].apply(lambda x : x.split())"
   ]
  },
  {
   "cell_type": "code",
   "execution_count": null,
   "id": "2244ab78-a89b-45e6-b19f-ad296b1fde58",
   "metadata": {},
   "outputs": [],
   "source": [
    "movies.head()"
   ]
  },
  {
   "cell_type": "code",
   "execution_count": null,
   "id": "f36bb543-199f-49cd-aaf8-8ea6f426306c",
   "metadata": {},
   "outputs": [],
   "source": [
    "movies['genres'] = movies['genres'].apply(lambda x:[i.replace(\" \",\"\") for i in x])"
   ]
  },
  {
   "cell_type": "code",
   "execution_count": null,
   "id": "d2292ba6-1d89-43b6-8be6-f7bf2bda3539",
   "metadata": {},
   "outputs": [],
   "source": [
    "movies['keywords'] = movies['keywords'].apply(lambda x:[i.replace(\" \",\"\") for i in x])\n",
    "movies['cast'] = movies['cast'].apply(lambda x:[i.replace(\" \",\"\") for i in x])"
   ]
  },
  {
   "cell_type": "code",
   "execution_count": null,
   "id": "6ff7bfab-d6b9-4949-b0c0-43ee33a0752b",
   "metadata": {},
   "outputs": [],
   "source": [
    "movies.head()\n"
   ]
  },
  {
   "cell_type": "code",
   "execution_count": null,
   "id": "dcf98e4a-6c24-4fa4-9d1b-d1bcc0d1d108",
   "metadata": {},
   "outputs": [],
   "source": [
    "movies['crew'] = movies['crew'].apply(lambda x:[i.replace(\" \",\"\") for i in x])"
   ]
  },
  {
   "cell_type": "code",
   "execution_count": null,
   "id": "1644ef9b-8019-499b-b99a-01d9676ee610",
   "metadata": {},
   "outputs": [],
   "source": [
    "movies.head()"
   ]
  },
  {
   "cell_type": "code",
   "execution_count": null,
   "id": "0afc7f8e-3d0f-4a0a-b0a5-254dce38db16",
   "metadata": {},
   "outputs": [],
   "source": [
    "movies['tags'] = movies['overview']+movies['genres']+movies['keywords']+movies['cast']+movies['crew']"
   ]
  },
  {
   "cell_type": "code",
   "execution_count": null,
   "id": "6a206b2b-235e-4faa-a557-ce6a3b6fd845",
   "metadata": {},
   "outputs": [],
   "source": [
    "movies.head()"
   ]
  },
  {
   "cell_type": "code",
   "execution_count": null,
   "id": "9e3da0d1-35db-4081-b0c5-d28c4f26af2e",
   "metadata": {},
   "outputs": [],
   "source": [
    "new_df = movies[['movie_id','title','tags']]"
   ]
  },
  {
   "cell_type": "code",
   "execution_count": null,
   "id": "9e99d2ef-99c8-4860-a904-e46704785003",
   "metadata": {},
   "outputs": [],
   "source": [
    "new_df['tags'][0]"
   ]
  },
  {
   "cell_type": "code",
   "execution_count": null,
   "id": "bc72ea1d-3e80-423f-bf1e-12ded41cdcf8",
   "metadata": {},
   "outputs": [],
   "source": [
    "new_df.info()"
   ]
  },
  {
   "cell_type": "code",
   "execution_count": null,
   "id": "7f3f666d-2ac0-4d4a-a5c2-ff153557ec27",
   "metadata": {},
   "outputs": [],
   "source": [
    "movies.head()"
   ]
  },
  {
   "cell_type": "code",
   "execution_count": null,
   "id": "d4c59519-55f2-4dc5-936b-1d93ef60e4f8",
   "metadata": {},
   "outputs": [],
   "source": [
    "new_df['tags'] = new_df['tags'].apply(lambda x: ' '.join(x))"
   ]
  },
  {
   "cell_type": "code",
   "execution_count": null,
   "id": "c97331fd-5fa1-4c4d-9297-39736a5457d9",
   "metadata": {},
   "outputs": [],
   "source": [
    "new_df.head()"
   ]
  },
  {
   "cell_type": "code",
   "execution_count": null,
   "id": "be69087e-6994-49ae-9e6a-8cba677b3f7e",
   "metadata": {},
   "outputs": [],
   "source": [
    "new_df.head(0)"
   ]
  },
  {
   "cell_type": "code",
   "execution_count": null,
   "id": "6ef100a8-d9eb-4a36-a6e6-d3944060b34e",
   "metadata": {},
   "outputs": [],
   "source": [
    "new_df['tags'].apply(lambda x : x.lower())"
   ]
  },
  {
   "cell_type": "code",
   "execution_count": null,
   "id": "5a7248be-0b56-424b-a33c-84e673a05d6a",
   "metadata": {},
   "outputs": [],
   "source": [
    "new_df['tags'] = new_df['tags'].apply(lambda x : x.lower())"
   ]
  },
  {
   "cell_type": "code",
   "execution_count": null,
   "id": "8d18211e-1424-4eb8-85c4-1734939401f8",
   "metadata": {},
   "outputs": [],
   "source": [
    "new_df.head()"
   ]
  },
  {
   "cell_type": "code",
   "execution_count": null,
   "id": "90e957d1-a02c-48ae-aab4-314eaab6bb97",
   "metadata": {},
   "outputs": [],
   "source": [
    "#Vectorization\n",
    "\n",
    "from sklearn.feature_extraction.text import CountVectorizer\n",
    "cv = CountVectorizer(max_features=5000,stop_words=\"english\")"
   ]
  },
  {
   "cell_type": "code",
   "execution_count": null,
   "id": "b27938c4-f5b0-4b36-971f-5e7214554040",
   "metadata": {},
   "outputs": [],
   "source": [
    "vectors = cv.fit_transform(new_df['tags']).toarray()"
   ]
  },
  {
   "cell_type": "code",
   "execution_count": null,
   "id": "a911cc2c-4aae-4787-a6e4-01aaaf8e9387",
   "metadata": {},
   "outputs": [],
   "source": [
    "vectors"
   ]
  },
  {
   "cell_type": "code",
   "execution_count": null,
   "id": "b8c245a0-785b-47b6-b773-214442f21ef4",
   "metadata": {},
   "outputs": [],
   "source": [
    "cv.get_feature_names_out()"
   ]
  },
  {
   "cell_type": "code",
   "execution_count": null,
   "id": "c3c4c87b-dbe6-494c-904b-ef045b1fd9ea",
   "metadata": {},
   "outputs": [],
   "source": [
    "len(cv.get_feature_names_out())"
   ]
  },
  {
   "cell_type": "code",
   "execution_count": null,
   "id": "cec61623-494e-418b-94de-694c80dd549c",
   "metadata": {},
   "outputs": [],
   "source": [
    "import nltk "
   ]
  },
  {
   "cell_type": "code",
   "execution_count": null,
   "id": "6c60e139-33cd-4d12-96c5-91f7d0a792da",
   "metadata": {},
   "outputs": [],
   "source": [
    "pip install nltk"
   ]
  },
  {
   "cell_type": "code",
   "execution_count": null,
   "id": "c8916928-e750-4c84-acd6-723d1ee58b97",
   "metadata": {},
   "outputs": [],
   "source": [
    "import nltk\n",
    "from nltk.stem.porter import PorterStemmer\n",
    "ps = PorterStemmer()"
   ]
  },
  {
   "cell_type": "code",
   "execution_count": null,
   "id": "1469e9b9-9e93-4c44-9d0e-61e3e50bdc41",
   "metadata": {},
   "outputs": [],
   "source": [
    "def stem(text) :\n",
    "    y = []\n",
    "    for i in text.split() :\n",
    "        y.append(ps.stem(i))\n",
    "    string = \" \".join(y)\n",
    "    return string"
   ]
  },
  {
   "cell_type": "code",
   "execution_count": null,
   "id": "143ae47a-ecb5-4c6b-9e72-48f5cf18ab06",
   "metadata": {},
   "outputs": [],
   "source": [
    "new_df['tags'] = new_df['tags'].apply(stem)"
   ]
  },
  {
   "cell_type": "code",
   "execution_count": null,
   "id": "948c023e-8753-4139-b693-8cfb81113b5e",
   "metadata": {},
   "outputs": [],
   "source": [
    "new_df.head()"
   ]
  },
  {
   "cell_type": "code",
   "execution_count": null,
   "id": "21e3e2f2-d941-4d4c-9311-efa365ea3f05",
   "metadata": {},
   "outputs": [],
   "source": [
    "from sklearn.metrics.pairwise import cosine_similarity"
   ]
  },
  {
   "cell_type": "code",
   "execution_count": null,
   "id": "87411169-8e56-4051-bc9e-c7df93dd685a",
   "metadata": {},
   "outputs": [],
   "source": [
    "similarity = cosine_similarity(vectors)"
   ]
  },
  {
   "cell_type": "code",
   "execution_count": null,
   "id": "b3e58017-be71-484a-969d-fad130a54691",
   "metadata": {},
   "outputs": [],
   "source": [
    "cosine_similarity(vectors).shape"
   ]
  },
  {
   "cell_type": "code",
   "execution_count": null,
   "id": "43eb17f4-c59d-4324-a165-9d62db96ce96",
   "metadata": {},
   "outputs": [],
   "source": [
    "similarity[1]"
   ]
  },
  {
   "cell_type": "code",
   "execution_count": null,
   "id": "a95544b3-91e3-4f54-acdb-6bd1ecd4a702",
   "metadata": {},
   "outputs": [],
   "source": [
    "def recommend(movie) :\n",
    "    index = new_df[new_df['title'] == movie].index[0]\n",
    "    distances = similarity[index]\n",
    "    distances = list(enumerate(distances))\n",
    "    distances = sorted(distances,reverse=True,key=lambda x : x[1])[1:6]\n",
    "\n",
    "    for i in distances :\n",
    "        print(new_df.iloc[i[0]].title)"
   ]
  },
  {
   "cell_type": "code",
   "execution_count": null,
   "id": "6c22d529-c196-4637-8927-5f78a1e56a1f",
   "metadata": {},
   "outputs": [],
   "source": [
    "new_df['title'] == \"Batman Begins\""
   ]
  },
  {
   "cell_type": "code",
   "execution_count": null,
   "id": "4f2ef686-6b05-44a3-a392-2b01fe95a835",
   "metadata": {},
   "outputs": [],
   "source": [
    "new_df[new_df['title'] == \"Batman Begins\"]"
   ]
  },
  {
   "cell_type": "code",
   "execution_count": null,
   "id": "6117a713-ce42-4289-9fcf-94f8cc7e73a1",
   "metadata": {},
   "outputs": [],
   "source": [
    "new_df[new_df['title'] == \"Batman Begins\"].index[0]"
   ]
  },
  {
   "cell_type": "code",
   "execution_count": null,
   "id": "568d97c6-499c-4687-b124-10ecde532759",
   "metadata": {},
   "outputs": [],
   "source": [
    "recommend(\"Dead Man Down\")"
   ]
  },
  {
   "cell_type": "code",
   "execution_count": null,
   "id": "649aa1a3-5da2-41af-8c2c-dd84c43a7baa",
   "metadata": {},
   "outputs": [],
   "source": []
  }
 ],
 "metadata": {
  "kernelspec": {
   "display_name": "Python 3 (ipykernel)",
   "language": "python",
   "name": "python3"
  },
  "language_info": {
   "codemirror_mode": {
    "name": "ipython",
    "version": 3
   },
   "file_extension": ".py",
   "mimetype": "text/x-python",
   "name": "python",
   "nbconvert_exporter": "python",
   "pygments_lexer": "ipython3",
   "version": "3.12.3"
  },
  "widgets": {
   "application/vnd.jupyter.widget-state+json": {
    "state": {},
    "version_major": 2,
    "version_minor": 0
   }
  }
 },
 "nbformat": 4,
 "nbformat_minor": 5
}
